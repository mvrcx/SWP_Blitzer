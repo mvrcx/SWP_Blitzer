{
  "nbformat": 4,
  "nbformat_minor": 0,
  "metadata": {
    "colab": {
      "name": "Landmark-Grayscales.ipynb",
      "provenance": [],
      "mount_file_id": "1yxsZZ3SEQmHBri0RpVx_oGRY2ARmktC-",
      "authorship_tag": "ABX9TyOSoMjsXkad24HUxPKnWvxk",
      "include_colab_link": true
    },
    "kernelspec": {
      "name": "python3",
      "display_name": "Python 3"
    },
    "language_info": {
      "name": "python"
    }
  },
  "cells": [
    {
      "cell_type": "markdown",
      "metadata": {
        "id": "view-in-github",
        "colab_type": "text"
      },
      "source": [
        "<a href=\"https://colab.research.google.com/github/mvrcx/SWP_Blitzer/blob/main/Landmark_Grayscales.ipynb\" target=\"_parent\"><img src=\"https://colab.research.google.com/assets/colab-badge.svg\" alt=\"Open In Colab\"/></a>"
      ]
    },
    {
      "cell_type": "code",
      "metadata": {
        "id": "kqA6qsXztLVR"
      },
      "source": [
        "import numpy as np\n",
        "import os \n",
        "import dlib\n",
        "import cv2\n",
        "from PIL import Image"
      ],
      "execution_count": null,
      "outputs": []
    },
    {
      "cell_type": "code",
      "metadata": {
        "colab": {
          "base_uri": "https://localhost:8080/"
        },
        "id": "cI89rApntg_P",
        "outputId": "f8e0ba4a-3c31-47cf-b5f2-3b6f32f5a05f"
      },
      "source": [
        "from google.colab import drive\n",
        "drive.mount('/content/drive')"
      ],
      "execution_count": null,
      "outputs": [
        {
          "output_type": "stream",
          "text": [
            "Drive already mounted at /content/drive; to attempt to forcibly remount, call drive.mount(\"/content/drive\", force_remount=True).\n"
          ],
          "name": "stdout"
        }
      ]
    },
    {
      "cell_type": "code",
      "metadata": {
        "id": "XMZaPPVVtCCX"
      },
      "source": [
        "accepted_image_formats = [\"jpg\", \"png\", \"jpeg\"]\n",
        "\n",
        "def get_image_urls(path):\n",
        "\tfilenames = []\n",
        "\t\n",
        "\t# Move to the raw_data directory, to access the images\n",
        "\tos.chdir(path)\n",
        "\t\n",
        "\t# loop over every file in the current directory (raw_data)\n",
        "\tfor root, directories, files in os.walk(\".\"):\n",
        "\t\tfor filename in files: \n",
        "\t\t\t\n",
        "\t\t\t# check if file has accepted format\n",
        "\t\t\tif any(image_format in filename for image_format in accepted_image_formats):\n",
        "\t\t\t\tfilenames.append(path+\"/\"+filename)\n",
        "\n",
        "\t# change back to original directory\n",
        "\treturn filenames"
      ],
      "execution_count": null,
      "outputs": []
    },
    {
      "cell_type": "code",
      "metadata": {
        "colab": {
          "base_uri": "https://localhost:8080/"
        },
        "id": "oULGR_QetR4Y",
        "outputId": "3afeade6-91b9-4086-b1ae-96ad88a5c7ab"
      },
      "source": [
        "covered_images = get_image_urls(\"/content/drive/MyDrive/SWP_Blitzer/with_mask\")\n",
        "uncovered_images = get_image_urls(\"/content/drive/MyDrive/SWP_Blitzer/without_mask\")\n",
        "print(len(uncovered_images))"
      ],
      "execution_count": null,
      "outputs": [
        {
          "output_type": "stream",
          "text": [
            "1930\n"
          ],
          "name": "stdout"
        }
      ]
    },
    {
      "cell_type": "code",
      "metadata": {
        "id": "XOxfHlIJtTis"
      },
      "source": [
        "def get_color_of_pixel(image_url, coordinate):\n",
        "    im = Image.open(image_url) \n",
        "    pix = im.load()\n",
        "    return pix[coordinate[0], coordinate[1]]  \n",
        "    \n",
        "\n",
        "def get_gray_scale_of_landmarks_for(image_url):\n",
        "    # Load the detector\n",
        "    detector = dlib.get_frontal_face_detector()\n",
        "    \n",
        "    # Load the predictor\n",
        "    predictor = dlib.shape_predictor(\"/content/drive/MyDrive/SWP_Blitzer/shape_predictor_68_face_landmarks.dat\")\n",
        "    \n",
        "    # read the image\n",
        "    img = cv2.imread(image_url)\n",
        "    \n",
        "    # Convert image into grayscale\n",
        "    gray = cv2.cvtColor(src=img, code=cv2.COLOR_BGR2GRAY)\n",
        "    \n",
        "    # Use detector to find landmarks\n",
        "    faces = detector(gray)\n",
        "    \n",
        "    gray_scales_of_landmarks = []\n",
        "    \n",
        "    for face in faces:\n",
        "        x1 = face.left() # left point\n",
        "        y1 = face.top() # top point\n",
        "        x2 = face.right() # right point\n",
        "        y2 = face.bottom() # bottom point\n",
        "    \n",
        "        # Create landmark object\n",
        "        landmarks = predictor(image=gray, box=face)\n",
        "\n",
        "        landmark_grayscales_for_face = []\n",
        "        # Loop through all the points\n",
        "        for n in range(0, 68):\n",
        "            x = landmarks.part(n).x\n",
        "            y = landmarks.part(n).y\n",
        "            if y < len(gray) and x < len(gray[0]):\n",
        "                landmark_grayscales_for_face.append(gray[y, x])\n",
        "        if len(landmark_grayscales_for_face) == 68:\n",
        "            gray_scales_of_landmarks.append(landmark_grayscales_for_face)\n",
        "    return gray_scales_of_landmarks"
      ],
      "execution_count": null,
      "outputs": []
    },
    {
      "cell_type": "code",
      "metadata": {
        "colab": {
          "base_uri": "https://localhost:8080/"
        },
        "id": "4ggiWSlHtVRo",
        "outputId": "9e10ca1c-3fec-4b72-83c2-e51de2bf2bd1"
      },
      "source": [
        "data = []\n",
        "for i, image in enumerate(covered_images):\n",
        "    print(\"\\rAnalysing covered images: \"+str(100*(i+1)/len(covered_images))+\"%\", end=\"\")\n",
        "    landmark_grayscales = get_gray_scale_of_landmarks_for(image)\n",
        "    for landmark_grayscales_for_face in landmark_grayscales:\n",
        "        data.append((np.array(landmark_grayscales_for_face)/255, np.array([1.0])))\n",
        "\n",
        "print()\n",
        "for i, image in enumerate(uncovered_images):\n",
        "    print(\"\\rAnalysing uncovered images: \"+str(100*(i+1)/len(uncovered_images))+\"%\", end=\"\")\n",
        "    landmark_grayscales = get_gray_scale_of_landmarks_for(image)\n",
        "    for landmark_grayscales_for_face in landmark_grayscales:\n",
        "        data.append((np.array(landmark_grayscales_for_face)/255, np.array([0.0])))\n",
        "\n",
        "data = np.array(data)"
      ],
      "execution_count": null,
      "outputs": [
        {
          "output_type": "stream",
          "text": [
            "Analysing covered images: 100.0%\n",
            "Analysing uncovered images: 100.0%"
          ],
          "name": "stdout"
        },
        {
          "output_type": "stream",
          "text": [
            "/usr/local/lib/python3.7/dist-packages/ipykernel_launcher.py:15: VisibleDeprecationWarning: Creating an ndarray from ragged nested sequences (which is a list-or-tuple of lists-or-tuples-or ndarrays with different lengths or shapes) is deprecated. If you meant to do this, you must specify 'dtype=object' when creating the ndarray\n",
            "  from ipykernel import kernelapp as app\n"
          ],
          "name": "stderr"
        }
      ]
    },
    {
      "cell_type": "code",
      "metadata": {
        "id": "b6UcpjNZpT4s"
      },
      "source": [
        "with open(\"/content/drive/MyDrive/SWP_Blitzer/landmark_grayscales_covered_uncovered.npy\", \"wb\") as f:\n",
        "    np.save(f, data)"
      ],
      "execution_count": null,
      "outputs": []
    },
    {
      "cell_type": "code",
      "metadata": {
        "id": "PkeFNIp8tv04"
      },
      "source": [
        ""
      ],
      "execution_count": null,
      "outputs": []
    }
  ]
}